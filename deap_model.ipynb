{
  "cells": [
    {
      "cell_type": "markdown",
      "metadata": {
        "id": "view-in-github",
        "colab_type": "text"
      },
      "source": [
        "<a href=\"https://colab.research.google.com/github/TCFSH69/EEG-Machine-Learning/blob/main/deap_model.ipynb\" target=\"_parent\"><img src=\"https://colab.research.google.com/assets/colab-badge.svg\" alt=\"Open In Colab\"/></a>"
      ]
    },
    {
      "cell_type": "markdown",
      "metadata": {
        "id": "nMjx4qYBiNWd"
      },
      "source": [
        "1\tFp1\n",
        "2\tAF3\n",
        "3\tF3\n",
        "4\tF7\n",
        "5\tFC5\n",
        "6\tFC1\n",
        "7\tC3\n",
        "8\tT7\n",
        "9\tCP5\n",
        "10\tCP1\n",
        "11\tP3\n",
        "12\tP7\n",
        "13\tPO3\n",
        "14\tO1\n",
        "15\tOz\n",
        "16\tPz\n",
        "17\tFp2\n",
        "18\tAF4\n",
        "19\tFz\n",
        "20\tF4\n",
        "21\tF8\n",
        "22\tFC6\n",
        "23\tFC2\n",
        "24\tCz\n",
        "25\tC4\n",
        "26\tT8\n",
        "27\tCP6\n",
        "28\tCP2\n",
        "29\tP4\n",
        "30\tP8\n",
        "31\tPO4\n",
        "32\tO2"
      ]
    },
    {
      "cell_type": "code",
      "execution_count": null,
      "metadata": {
        "id": "YHKWe3I2iNWg"
      },
      "outputs": [],
      "source": [
        "import pickle\n",
        "import numpy as np\n",
        "from tensorflow.keras.models import Sequential\n",
        "from tensorflow.keras.layers import Conv1D, MaxPooling1D, Flatten, Dense, Dropout\n",
        "from tensorflow.keras.optimizers import Adam\n",
        "from sklearn.preprocessing import StandardScaler"
      ]
    },
    {
      "cell_type": "code",
      "execution_count": null,
      "metadata": {
        "id": "dirdIeRdiNWh"
      },
      "outputs": [],
      "source": [
        "# Constants\n",
        "CHANNEL_NUM = 32\n",
        "USER_NUM = 32\n",
        "TRAINING_NUM = 24\n",
        "VAL_NUM = USER_NUM - TRAINING_NUM\n",
        "SAMPLE_POINT = 8064"
      ]
    },
    {
      "cell_type": "code",
      "execution_count": null,
      "metadata": {
        "id": "0nZLhKZEiNWh"
      },
      "outputs": [],
      "source": [
        "'''\n",
        "Load data from 32 participants and resize data & label vectors\n",
        "'''\n",
        "def load_data():\n",
        "    eeg_data   = []\n",
        "    eeg_labels = []\n",
        "    for file_id in range(1, USER_NUM + 1):\n",
        "        with open(f'deap-dataset\\data_preprocessed_python\\s{file_id:02d}.dat', 'rb') as file:\n",
        "            data = pickle.load(file)\n",
        "            eeg_data.append(data['data'][:, :CHANNEL_NUM, :])\n",
        "            eeg_labels.append(data['labels'][:, :1]) # only valence\n",
        "\n",
        "    eeg_data   = np.array(eeg_data)\n",
        "    eeg_labels = np.array(eeg_labels)\n",
        "\n",
        "    eeg_data   = eeg_data.reshape(-1, CHANNEL_NUM, SAMPLE_POINT) # (32 * 40, 32, 8064)\n",
        "    eeg_labels = eeg_labels.reshape(-1, 1)      # (32 * 40, 1)\n",
        "\n",
        "    return eeg_data, eeg_labels\n",
        "\n",
        "\n"
      ]
    },
    {
      "cell_type": "code",
      "execution_count": null,
      "metadata": {
        "id": "GP8mJ7e0iNWi"
      },
      "outputs": [],
      "source": [
        "eeg_data, eeg_labels = load_data()\n",
        "\n",
        "# Standardize each channel\n",
        "scaler = StandardScaler()\n",
        "eeg_data = eeg_data.reshape(-1, SAMPLE_POINT)\n",
        "eeg_data = scaler.fit_transform(eeg_data)\n",
        "eeg_data = eeg_data.reshape(-1, CHANNEL_NUM, SAMPLE_POINT)\n"
      ]
    },
    {
      "cell_type": "code",
      "execution_count": null,
      "metadata": {
        "id": "kGzRK8tHiNWi"
      },
      "outputs": [],
      "source": [
        "# 24 participants for training dataset\n",
        "# 8 participants for verification dataset\n",
        "X_train, X_val = eeg_data[:TRAINING_NUM * CHANNEL_NUM], eeg_data[TRAINING_NUM * CHANNEL_NUM:]\n",
        "y_train, y_val = eeg_labels[:TRAINING_NUM * CHANNEL_NUM], eeg_labels[TRAINING_NUM * CHANNEL_NUM:]"
      ]
    },
    {
      "cell_type": "code",
      "execution_count": null,
      "metadata": {
        "id": "raNQdGnUiNWj"
      },
      "outputs": [],
      "source": [
        "# Model training\n",
        "model = Sequential([\n",
        "    Conv1D(64, kernel_size=3, activation='relu', input_shape=(CHANNEL_NUM, SAMPLE_POINT)),\n",
        "    MaxPooling1D(pool_size=2),\n",
        "    Dropout(0.5),\n",
        "\n",
        "    Conv1D(128, kernel_size=3, activation='relu'),\n",
        "    MaxPooling1D(pool_size=2),\n",
        "    Dropout(0.5),\n",
        "\n",
        "    Conv1D(256, kernel_size=3, activation='relu'),\n",
        "    MaxPooling1D(pool_size=2),\n",
        "    Dropout(0.5),\n",
        "\n",
        "    Flatten(),\n",
        "    Dense(128, activation='relu'),\n",
        "    Dropout(0.5),\n",
        "    Dense(1, activation='linear')\n",
        "])\n",
        "\n",
        "model.compile(optimizer=Adam(learning_rate=0.001),\n",
        "              loss='mse',\n",
        "              metrics=['mae'])\n",
        "\n",
        "history = model.fit(X_train, y_train,\n",
        "                    epochs=100,\n",
        "                    batch_size=32,\n",
        "                    validation_data=(X_val, y_val))"
      ]
    },
    {
      "cell_type": "code",
      "execution_count": null,
      "metadata": {
        "id": "xFgTMPfZiNWj",
        "outputId": "2d740a2d-f55c-4075-a565-eec442835441"
      },
      "outputs": [
        {
          "name": "stdout",
          "output_type": "stream",
          "text": [
            "Accuracy: 80.859375%\n"
          ]
        }
      ],
      "source": [
        "# Model prediction\n",
        "correct = 0\n",
        "for i in range(VAL_NUM * CHANNEL_NUM):\n",
        "    predict = model.predict(X_val[i].reshape(1, CHANNEL_NUM, SAMPLE_POINT))[0][0]\n",
        "    real = y_val[i][0]\n",
        "    correct += ((predict >= 5 and real >= 5) or (predict < 5 and real < 5))\n",
        "\n",
        "print(f\"Accuracy: {correct / (VAL_NUM * CHANNEL_NUM) * 100}%\")"
      ]
    }
  ],
  "metadata": {
    "kernelspec": {
      "display_name": "Python 3",
      "language": "python",
      "name": "python3"
    },
    "language_info": {
      "codemirror_mode": {
        "name": "ipython",
        "version": 3
      },
      "file_extension": ".py",
      "mimetype": "text/x-python",
      "name": "python",
      "nbconvert_exporter": "python",
      "pygments_lexer": "ipython3",
      "version": "3.9.6"
    },
    "colab": {
      "provenance": [],
      "include_colab_link": true
    }
  },
  "nbformat": 4,
  "nbformat_minor": 0
}